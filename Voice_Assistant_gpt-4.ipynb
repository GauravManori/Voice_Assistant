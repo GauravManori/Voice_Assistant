{
 "cells": [
  {
   "cell_type": "code",
   "execution_count": 1,
   "id": "8993e2d5",
   "metadata": {},
   "outputs": [
    {
     "name": "stdout",
     "output_type": "stream",
     "text": [
      "Collecting SpeechRecognition"
     ]
    },
    {
     "name": "stderr",
     "output_type": "stream",
     "text": [
      "ERROR: pip's dependency resolver does not currently take into account all the packages that are installed. This behaviour is the source of the following dependency conflicts.\n",
      "conda-repo-cli 1.0.4 requires pathlib, which is not installed.\n",
      "anaconda-project 0.10.1 requires ruamel-yaml, which is not installed.\n"
     ]
    },
    {
     "name": "stdout",
     "output_type": "stream",
     "text": [
      "\n",
      "  Downloading SpeechRecognition-3.11.0-py2.py3-none-any.whl (32.8 MB)\n",
      "Collecting gtts\n",
      "  Downloading gTTS-2.5.3-py3-none-any.whl (29 kB)\n",
      "Collecting openai\n",
      "  Downloading openai-1.54.3-py3-none-any.whl (389 kB)\n",
      "Requirement already satisfied: typing-extensions in c:\\users\\asus\\anaconda3\\lib\\site-packages (from SpeechRecognition) (4.5.0)\n",
      "Requirement already satisfied: requests>=2.26.0 in c:\\users\\asus\\anaconda3\\lib\\site-packages (from SpeechRecognition) (2.26.0)\n",
      "Collecting requests>=2.26.0\n",
      "  Downloading requests-2.32.3-py3-none-any.whl (64 kB)\n",
      "Requirement already satisfied: click<8.2,>=7.1 in c:\\users\\asus\\anaconda3\\lib\\site-packages (from gtts) (8.0.3)\n",
      "Requirement already satisfied: tqdm>4 in c:\\users\\asus\\anaconda3\\lib\\site-packages (from openai) (4.62.3)\n",
      "Collecting distro<2,>=1.7.0\n",
      "  Downloading distro-1.9.0-py3-none-any.whl (20 kB)\n",
      "Collecting typing-extensions\n",
      "  Downloading typing_extensions-4.12.2-py3-none-any.whl (37 kB)\n",
      "Collecting pydantic<3,>=1.9.0\n",
      "  Downloading pydantic-2.9.2-py3-none-any.whl (434 kB)\n",
      "Collecting httpx<1,>=0.23.0\n",
      "  Downloading httpx-0.27.2-py3-none-any.whl (76 kB)\n",
      "Collecting jiter<1,>=0.4.0\n",
      "  Downloading jiter-0.7.0-cp39-none-win_amd64.whl (202 kB)\n",
      "Requirement already satisfied: sniffio in c:\\users\\asus\\anaconda3\\lib\\site-packages (from openai) (1.3.0)\n",
      "Collecting anyio<5,>=3.5.0\n",
      "  Downloading anyio-4.6.2.post1-py3-none-any.whl (90 kB)\n",
      "Requirement already satisfied: idna>=2.8 in c:\\users\\asus\\anaconda3\\lib\\site-packages (from anyio<5,>=3.5.0->openai) (3.2)\n",
      "Requirement already satisfied: exceptiongroup>=1.0.2 in c:\\users\\asus\\anaconda3\\lib\\site-packages (from anyio<5,>=3.5.0->openai) (1.1.3)\n",
      "Requirement already satisfied: colorama in c:\\users\\asus\\anaconda3\\lib\\site-packages (from click<8.2,>=7.1->gtts) (0.4.4)\n",
      "Collecting httpcore==1.*\n",
      "  Downloading httpcore-1.0.6-py3-none-any.whl (78 kB)\n",
      "Requirement already satisfied: certifi in c:\\users\\asus\\anaconda3\\lib\\site-packages (from httpx<1,>=0.23.0->openai) (2021.10.8)\n",
      "Requirement already satisfied: h11<0.15,>=0.13 in c:\\users\\asus\\anaconda3\\lib\\site-packages (from httpcore==1.*->httpx<1,>=0.23.0->openai) (0.14.0)\n",
      "Collecting pydantic-core==2.23.4\n",
      "  Downloading pydantic_core-2.23.4-cp39-none-win_amd64.whl (1.9 MB)\n",
      "Collecting annotated-types>=0.6.0\n",
      "  Downloading annotated_types-0.7.0-py3-none-any.whl (13 kB)\n",
      "Requirement already satisfied: charset-normalizer<4,>=2 in c:\\users\\asus\\anaconda3\\lib\\site-packages (from requests>=2.26.0->SpeechRecognition) (2.0.4)\n",
      "Requirement already satisfied: urllib3<3,>=1.21.1 in c:\\users\\asus\\anaconda3\\lib\\site-packages (from requests>=2.26.0->SpeechRecognition) (1.26.7)\n",
      "Installing collected packages: typing-extensions, pydantic-core, httpcore, anyio, annotated-types, requests, pydantic, jiter, httpx, distro, SpeechRecognition, openai, gtts\n",
      "  Attempting uninstall: typing-extensions\n",
      "    Found existing installation: typing-extensions 4.5.0\n",
      "    Uninstalling typing-extensions-4.5.0:\n",
      "      Successfully uninstalled typing-extensions-4.5.0\n",
      "  Attempting uninstall: anyio\n",
      "    Found existing installation: anyio 2.2.0\n",
      "    Uninstalling anyio-2.2.0:\n",
      "      Successfully uninstalled anyio-2.2.0\n",
      "  Attempting uninstall: requests\n",
      "    Found existing installation: requests 2.26.0\n",
      "    Uninstalling requests-2.26.0:\n",
      "      Successfully uninstalled requests-2.26.0\n",
      "Successfully installed SpeechRecognition-3.11.0 annotated-types-0.7.0 anyio-4.6.2.post1 distro-1.9.0 gtts-2.5.3 httpcore-1.0.6 httpx-0.27.2 jiter-0.7.0 openai-1.54.3 pydantic-2.9.2 pydantic-core-2.23.4 requests-2.32.3 typing-extensions-4.12.2\n"
     ]
    }
   ],
   "source": [
    "# Run this cell to install required libraries\n",
    "!pip install SpeechRecognition gtts openai"
   ]
  },
  {
   "cell_type": "code",
   "execution_count": 3,
   "id": "c7ab0201",
   "metadata": {},
   "outputs": [
    {
     "name": "stdout",
     "output_type": "stream",
     "text": [
      "Collecting pyaudio\n",
      "  Downloading PyAudio-0.2.14-cp39-cp39-win_amd64.whl (164 kB)\n",
      "Installing collected packages: pyaudio\n",
      "Successfully installed pyaudio-0.2.14\n"
     ]
    }
   ],
   "source": [
    "# Run this in Jupyter or terminal\n",
    "!pip install pyaudio\n"
   ]
  },
  {
   "cell_type": "code",
   "execution_count": 4,
   "id": "ef4f66ef",
   "metadata": {},
   "outputs": [
    {
     "name": "stdout",
     "output_type": "stream",
     "text": [
      "Please speak now...\n",
      "You said: hello how r u\n"
     ]
    },
    {
     "data": {
      "text/plain": [
       "'hello how r u'"
      ]
     },
     "execution_count": 4,
     "metadata": {},
     "output_type": "execute_result"
    }
   ],
   "source": [
    "import speech_recognition as sr\n",
    "\n",
    "def listen_to_user():\n",
    "    recognizer = sr.Recognizer()\n",
    "    with sr.Microphone() as source:\n",
    "        print(\"Please speak now...\")\n",
    "        audio = recognizer.listen(source)  # Capture audio input\n",
    "        try:\n",
    "            user_input = recognizer.recognize_google(audio)  # Convert audio to text\n",
    "            print(\"You said:\", user_input)\n",
    "            return user_input\n",
    "        except sr.UnknownValueError:\n",
    "            print(\"Sorry, I could not understand the audio.\")\n",
    "            return None\n",
    "        except sr.RequestError:\n",
    "            print(\"Could not request results; check your network connection.\")\n",
    "            return None\n",
    "\n",
    "# Run the function\n",
    "listen_to_user()\n"
   ]
  },
  {
   "cell_type": "code",
   "execution_count": 1,
   "id": "3d2e0283",
   "metadata": {},
   "outputs": [],
   "source": [
    "api = \"savhfjfjfjjkasjkfjajkbjsafjfjkajfajk\""
   ]
  },
  {
   "cell_type": "code",
   "execution_count": 16,
   "id": "4a4b46b1",
   "metadata": {
    "scrolled": true
   },
   "outputs": [
    {
     "name": "stdout",
     "output_type": "stream",
     "text": [
      "Requirement already satisfied: openai in c:\\users\\asus\\anaconda3\\lib\\site-packages (1.54.3)\n",
      "Requirement already satisfied: httpx<1,>=0.23.0 in c:\\users\\asus\\anaconda3\\lib\\site-packages (from openai) (0.27.2)\n",
      "Requirement already satisfied: sniffio in c:\\users\\asus\\anaconda3\\lib\\site-packages (from openai) (1.3.0)\n",
      "Requirement already satisfied: distro<2,>=1.7.0 in c:\\users\\asus\\anaconda3\\lib\\site-packages (from openai) (1.9.0)\n",
      "Requirement already satisfied: anyio<5,>=3.5.0 in c:\\users\\asus\\anaconda3\\lib\\site-packages (from openai) (4.6.2.post1)\n",
      "Requirement already satisfied: pydantic<3,>=1.9.0 in c:\\users\\asus\\anaconda3\\lib\\site-packages (from openai) (2.9.2)\n",
      "Requirement already satisfied: typing-extensions<5,>=4.11 in c:\\users\\asus\\anaconda3\\lib\\site-packages (from openai) (4.12.2)\n",
      "Requirement already satisfied: tqdm>4 in c:\\users\\asus\\anaconda3\\lib\\site-packages (from openai) (4.62.3)\n",
      "Requirement already satisfied: jiter<1,>=0.4.0 in c:\\users\\asus\\anaconda3\\lib\\site-packages (from openai) (0.7.0)\n",
      "Requirement already satisfied: idna>=2.8 in c:\\users\\asus\\anaconda3\\lib\\site-packages (from anyio<5,>=3.5.0->openai) (3.2)\n",
      "Requirement already satisfied: exceptiongroup>=1.0.2 in c:\\users\\asus\\anaconda3\\lib\\site-packages (from anyio<5,>=3.5.0->openai) (1.1.3)\n",
      "Requirement already satisfied: httpcore==1.* in c:\\users\\asus\\anaconda3\\lib\\site-packages (from httpx<1,>=0.23.0->openai) (1.0.6)\n",
      "Requirement already satisfied: certifi in c:\\users\\asus\\anaconda3\\lib\\site-packages (from httpx<1,>=0.23.0->openai) (2021.10.8)\n",
      "Requirement already satisfied: h11<0.15,>=0.13 in c:\\users\\asus\\anaconda3\\lib\\site-packages (from httpcore==1.*->httpx<1,>=0.23.0->openai) (0.14.0)\n",
      "Requirement already satisfied: pydantic-core==2.23.4 in c:\\users\\asus\\anaconda3\\lib\\site-packages (from pydantic<3,>=1.9.0->openai) (2.23.4)\n",
      "Requirement already satisfied: annotated-types>=0.6.0 in c:\\users\\asus\\anaconda3\\lib\\site-packages (from pydantic<3,>=1.9.0->openai) (0.7.0)\n",
      "Requirement already satisfied: colorama in c:\\users\\asus\\anaconda3\\lib\\site-packages (from tqdm>4->openai) (0.4.4)\n"
     ]
    }
   ],
   "source": [
    "!pip install openai"
   ]
  },
  {
   "cell_type": "code",
   "execution_count": 18,
   "id": "b3d3c1e3",
   "metadata": {},
   "outputs": [
    {
     "name": "stdout",
     "output_type": "stream",
     "text": [
      "Requirement already satisfied: openai in c:\\users\\asus\\anaconda3\\lib\\site-packages (1.54.3)\n",
      "Requirement already satisfied: anyio<5,>=3.5.0 in c:\\users\\asus\\anaconda3\\lib\\site-packages (from openai) (4.6.2.post1)\n",
      "Requirement already satisfied: httpx<1,>=0.23.0 in c:\\users\\asus\\anaconda3\\lib\\site-packages (from openai) (0.27.2)\n",
      "Requirement already satisfied: jiter<1,>=0.4.0 in c:\\users\\asus\\anaconda3\\lib\\site-packages (from openai) (0.7.0)\n",
      "Requirement already satisfied: sniffio in c:\\users\\asus\\anaconda3\\lib\\site-packages (from openai) (1.3.0)\n",
      "Requirement already satisfied: typing-extensions<5,>=4.11 in c:\\users\\asus\\anaconda3\\lib\\site-packages (from openai) (4.12.2)\n",
      "Requirement already satisfied: distro<2,>=1.7.0 in c:\\users\\asus\\anaconda3\\lib\\site-packages (from openai) (1.9.0)\n",
      "Requirement already satisfied: pydantic<3,>=1.9.0 in c:\\users\\asus\\anaconda3\\lib\\site-packages (from openai) (2.9.2)\n",
      "Requirement already satisfied: tqdm>4 in c:\\users\\asus\\anaconda3\\lib\\site-packages (from openai) (4.62.3)\n",
      "Requirement already satisfied: exceptiongroup>=1.0.2 in c:\\users\\asus\\anaconda3\\lib\\site-packages (from anyio<5,>=3.5.0->openai) (1.1.3)\n",
      "Requirement already satisfied: idna>=2.8 in c:\\users\\asus\\anaconda3\\lib\\site-packages (from anyio<5,>=3.5.0->openai) (3.2)\n",
      "Requirement already satisfied: certifi in c:\\users\\asus\\anaconda3\\lib\\site-packages (from httpx<1,>=0.23.0->openai) (2021.10.8)\n",
      "Requirement already satisfied: httpcore==1.* in c:\\users\\asus\\anaconda3\\lib\\site-packages (from httpx<1,>=0.23.0->openai) (1.0.6)\n",
      "Requirement already satisfied: h11<0.15,>=0.13 in c:\\users\\asus\\anaconda3\\lib\\site-packages (from httpcore==1.*->httpx<1,>=0.23.0->openai) (0.14.0)\n",
      "Requirement already satisfied: annotated-types>=0.6.0 in c:\\users\\asus\\anaconda3\\lib\\site-packages (from pydantic<3,>=1.9.0->openai) (0.7.0)\n",
      "Requirement already satisfied: pydantic-core==2.23.4 in c:\\users\\asus\\anaconda3\\lib\\site-packages (from pydantic<3,>=1.9.0->openai) (2.23.4)\n",
      "Requirement already satisfied: colorama in c:\\users\\asus\\anaconda3\\lib\\site-packages (from tqdm>4->openai) (0.4.4)\n",
      "Note: you may need to restart the kernel to use updated packages.\n"
     ]
    }
   ],
   "source": [
    "pip install --upgrade openai\n"
   ]
  },
  {
   "cell_type": "code",
   "execution_count": 13,
   "id": "f4491165",
   "metadata": {},
   "outputs": [
    {
     "name": "stdout",
     "output_type": "stream",
     "text": [
      "Please speak now...\n",
      "You said: suggest me some North Indian food\n",
      "Assistant: Sure! Here are some popular North Indian dishes you might enjoy:\n",
      "\n",
      "1. Butter Chicken - A rich and creamy chicken dish cooked in a flavorful tomato-based sauce.\n",
      "2. Palak Paneer - Paneer (Indian cheese) cooked in a creamy spinach sauce.\n",
      "3. Chole Bhature - Spicy and tangy chickpea curry served with deep-fried bread.\n",
      "4. Rogan Josh - A flavorful and aromatic lamb curry cooked with yogurt and traditional spices.\n",
      "5. Aloo Gobi - A delicious vegetarian dish made with potatoes and cauliflower in a blend of spices.\n",
      "6. Tandoori Chicken - Marinated chicken cooked in a clay oven, resulting in a smoky and flavorful dish.\n",
      "7. Dal Makhani - A creamy lentil dish cooked with butter and spices.\n",
      "8. Rajma Chawal - Red kidney beans cooked in a spicy tomato gravy, served with steamed rice.\n",
      "9. Naan - Oven-baked flatbread that is a staple in North Indian cuisine.\n"
     ]
    }
   ],
   "source": [
    "import speech_recognition as sr\n",
    "from openai import OpenAI\n",
    "from gtts import gTTS\n",
    "import os\n",
    "\n",
    "# Initialize OpenAI client\n",
    "client = OpenAI(api_key=api)  # Replace with your actual API key\n",
    "\n",
    "def listen_to_user():\n",
    "    recognizer = sr.Recognizer()\n",
    "    with sr.Microphone() as source:\n",
    "        print(\"Please speak now...\")\n",
    "        audio = recognizer.listen(source)\n",
    "        try:\n",
    "            user_input = recognizer.recognize_google(audio)\n",
    "            print(\"You said:\", user_input)\n",
    "            return user_input\n",
    "        except sr.UnknownValueError:\n",
    "            print(\"Sorry, I could not understand the audio.\")\n",
    "            return None\n",
    "        except sr.RequestError:\n",
    "            print(\"Could not request results; check your network connection.\")\n",
    "            return None\n",
    "\n",
    "def get_response(user_input):\n",
    "    try:\n",
    "        response = client.chat.completions.create(\n",
    "            model=\"gpt-3.5-turbo\",\n",
    "            messages=[\n",
    "                {\"role\": \"system\", \"content\": \"You are a helpful assistant.\"},\n",
    "                {\"role\": \"user\", \"content\": user_input}\n",
    "            ]\n",
    "        )\n",
    "        response_text = response.choices[0].message.content.strip()\n",
    "        return response_text\n",
    "    except Exception as e:\n",
    "        print(\"Error:\", e)\n",
    "        return \"I'm having trouble understanding right now.\"\n",
    "\n",
    "def speak_text(response_text):\n",
    "    if response_text:\n",
    "        tts = gTTS(text=response_text, lang='en')\n",
    "        tts.save(\"response.mp3\")\n",
    "        os.system(\"start response.mp3\")  # Use \"afplay\" on Mac or \"xdg-open\" on Linux\n",
    "\n",
    "def voice_assistant():\n",
    "    user_input = listen_to_user()\n",
    "    if user_input:\n",
    "        response_text = get_response(user_input)\n",
    "        if response_text:\n",
    "            print(\"Assistant:\", response_text)\n",
    "            speak_text(response_text)\n",
    "\n",
    "# Run the assistant\n",
    "voice_assistant()\n"
   ]
  }
 ],
 "metadata": {
  "kernelspec": {
   "display_name": "Python 3 (ipykernel)",
   "language": "python",
   "name": "python3"
  },
  "language_info": {
   "codemirror_mode": {
    "name": "ipython",
    "version": 3
   },
   "file_extension": ".py",
   "mimetype": "text/x-python",
   "name": "python",
   "nbconvert_exporter": "python",
   "pygments_lexer": "ipython3",
   "version": "3.9.7"
  }
 },
 "nbformat": 4,
 "nbformat_minor": 5
}
